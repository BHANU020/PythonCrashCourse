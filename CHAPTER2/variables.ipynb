{
 "cells": [
  {
   "cell_type": "code",
   "execution_count": 15,
   "metadata": {},
   "outputs": [
    {
     "output_type": "stream",
     "name": "stdout",
     "text": "Hellow Python World\n"
    }
   ],
   "source": [
    "message = \"Hellow Python World\"\n",
    "\n",
    "print(message)"
   ]
  },
  {
   "cell_type": "code",
   "execution_count": 16,
   "metadata": {},
   "outputs": [
    {
     "output_type": "stream",
     "name": "stdout",
     "text": "Hellow Python Crash Course World !\n"
    }
   ],
   "source": [
    "message = \"Hellow Python Crash Course World !\"\n",
    "print(message)"
   ]
  },
  {
   "cell_type": "code",
   "execution_count": 17,
   "metadata": {},
   "outputs": [
    {
     "output_type": "stream",
     "name": "stdout",
     "text": "This is a string.\nThis is also a string.\nI told my friend, \"Python is my favorite language!\"\nThe language 'Python' is named after Monty Python, not the snake.\nOne of Python's strengths is its diverse and supportive community.\n"
    }
   ],
   "source": [
    "# Strings\n",
    "\n",
    "print(\"This is a string.\")\n",
    "print('This is also a string.')\n",
    "\n",
    "print('I told my friend, \"Python is my favorite language!\"')\n",
    "print(\"The language 'Python' is named after Monty Python, not the snake.\")\n",
    "print(\"One of Python's strengths is its diverse and supportive community.\")\n"
   ]
  }
 ],
 "metadata": {
  "language_info": {
   "codemirror_mode": {
    "name": "ipython",
    "version": 3
   },
   "file_extension": ".py",
   "mimetype": "text/x-python",
   "name": "python",
   "nbconvert_exporter": "python",
   "pygments_lexer": "ipython3",
   "version": "3.8.3-final"
  },
  "orig_nbformat": 2,
  "kernelspec": {
   "name": "python38332bit1bf0db4ece6e4b97a65a1be5782c0803",
   "display_name": "Python 3.8.3 32-bit"
  }
 },
 "nbformat": 4,
 "nbformat_minor": 2
}